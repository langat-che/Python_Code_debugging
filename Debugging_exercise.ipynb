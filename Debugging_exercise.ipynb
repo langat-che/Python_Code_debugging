{
  "cells": [
    {
      "cell_type": "code",
      "execution_count": 1,
      "metadata": {
        "id": "5k2c8_cDbGTV"
      },
      "outputs": [],
      "source": [
        "import csv\n",
        "import numpy as np\n",
        "from typing import Set,Tuple, List\n",
        "import torch\n",
        "import torch.utils\n",
        "import torch.utils.data\n",
        "import torch.nn as nn\n",
        "import torchvision\n",
        "NoneType = type(None)\n",
        "import matplotlib.pyplot as plt\n",
        "from IPython.display import display, clear_output\n",
        "from PIL import Image\n",
        "import torchvision.transforms.functional as TF\n",
        "from torchvision.models import vgg11\n",
        "from torchvision.models import mobilenet_v2\n",
        "import torchvision.transforms as transforms\n",
        "import time\n"
      ]
    },
    {
      "cell_type": "markdown",
      "metadata": {
        "id": "WsBfvtr6bGTc"
      },
      "source": [
        "<h1 id=\"exercise-1\"><strong>Exercise 1</strong></h1>\n"
      ]
    },
    {
      "cell_type": "markdown",
      "metadata": {
        "id": "vtDmj_d1bGTe"
      },
      "source": [
        "<font size=\"4px\"><p>This method returns the fruit name by getting the string at a specific index of the set.</p>\n",
        "<dl>\n",
        "<dt>param fruit_id</dt>\n",
        "<dd><p>The id of the fruit to get</p>\n",
        "</dd>\n",
        "<dt>param fruits</dt>\n",
        "<dd><p>The set of fruits to choose the id from</p>\n",
        "</dd>\n",
        "<dt>return</dt>\n",
        "<dd><p>The string corrosponding to the index <code>fruit_id</code></p>\n",
        "</dd>\n",
        "</dl>\n",
        "<p><strong>This method is part of a series of debugging exercises.</strong> <strong>Each Python method of this series contains bug that needs to be found.</strong></p>\n",
        "<div class=\"line-block\"><code>1   It does not print the fruit at the correct index, why is the returned result wrong?</code><br />\n",
        "<code>2   How could this be fixed?</code></div>\n",
        "<p>This example demonstrates the issue: name1, name3 and name4 are expected to correspond to the strings at the indices 1, 3, and 4: 'orange', 'kiwi' and 'strawberry'..</p>\n",
        "</font>"
      ]
    },
    {
      "cell_type": "code",
      "execution_count": 2,
      "metadata": {
        "id": "SGem6UNRbGTf"
      },
      "outputs": [],
      "source": [
        "# You can copy this code to your personal pipeline project or execute it here.\n",
        "def id_to_fruit(fruit_id: int, fruits: Set[str]) -> str:\n",
        "    \"\"\"\n",
        "    This method returns the fruit name by getting the string at a specific index of the set.\n",
        "\n",
        "    :param fruit_id: The id of the fruit to get\n",
        "    :param fruits: The set of fruits to choose the id from\n",
        "    :return: The string corrosponding to the index ``fruit_id``\n",
        "\n",
        "    **This method is part of a series of debugging exercises.**\n",
        "    **Each Python method of this series contains bug that needs to be found.**\n",
        "\n",
        "    | ``1   It does not print the fruit at the correct index, why is the returned result wrong?``\n",
        "    | ``2   How could this be fixed?``\n",
        "\n",
        "    This example demonstrates the issue:\n",
        "    name1, name3 and name4 are expected to correspond to the strings at the indices 1, 3, and 4:\n",
        "    'orange', 'kiwi' and 'strawberry'..\n",
        "\n",
        "    >>> name1 = id_to_fruit(1, {\"apple\", \"orange\", \"melon\", \"kiwi\", \"strawberry\"})\n",
        "    >>> name3 = id_to_fruit(3, {\"apple\", \"orange\", \"melon\", \"kiwi\", \"strawberry\"})\n",
        "    >>> name4 = id_to_fruit(4, {\"apple\", \"orange\", \"melon\", \"kiwi\", \"strawberry\"})\n",
        "    \"\"\"\n",
        "    idx = 0\n",
        "    for fruit in fruits:\n",
        "        if fruit_id == idx:\n",
        "            return fruit\n",
        "        idx += 1\n",
        "    raise RuntimeError(f\"Fruit with id {fruit_id} does not exist\")\n",
        "\n"
      ]
    },
    {
      "cell_type": "code",
      "execution_count": 3,
      "metadata": {
        "id": "lxoanTbCbGTg"
      },
      "outputs": [],
      "source": [
        "name1 = id_to_fruit(1, {\"apple\", \"orange\", \"melon\", \"kiwi\", \"strawberry\"})\n",
        "name3 = id_to_fruit(3, {\"apple\", \"orange\", \"melon\", \"kiwi\", \"strawberry\"})\n",
        "name4 = id_to_fruit(4, {\"apple\", \"orange\", \"melon\", \"kiwi\", \"strawberry\"})\n"
      ]
    },
    {
      "cell_type": "code",
      "execution_count": 4,
      "metadata": {
        "colab": {
          "base_uri": "https://localhost:8080/",
          "height": 36
        },
        "id": "IdmGb29Fiskl",
        "outputId": "63904342-4780-4d22-bd16-36f0597c0843"
      },
      "outputs": [
        {
          "output_type": "execute_result",
          "data": {
            "text/plain": [
              "'strawberry'"
            ],
            "application/vnd.google.colaboratory.intrinsic+json": {
              "type": "string"
            }
          },
          "metadata": {},
          "execution_count": 4
        }
      ],
      "source": [
        "name4"
      ]
    },
    {
      "cell_type": "markdown",
      "metadata": {
        "id": "oPK0_skUUyC6"
      },
      "source": [
        "### 1. It does not print the fruit at the correct index, why is the returned result wrong?\n",
        "First, in our case we are using a **set** which is a collection of unordered elements. So whenever we call the method with the arguement as a set, we will have an answer in an unpredictable way.\n",
        "\n",
        "### 2. How could this be fixed?\n",
        "To fix it, we can have the elements in a **list** instead since it preserves the insertion order during execution.\n"
      ]
    },
    {
      "cell_type": "code",
      "execution_count": 5,
      "metadata": {
        "colab": {
          "base_uri": "https://localhost:8080/",
          "height": 36
        },
        "id": "Q4ZdgANLWd9T",
        "outputId": "cf7f2c11-f9e0-4be7-c4ce-3d4e3a41cc0b"
      },
      "outputs": [
        {
          "output_type": "execute_result",
          "data": {
            "text/plain": [
              "'strawberry'"
            ],
            "application/vnd.google.colaboratory.intrinsic+json": {
              "type": "string"
            }
          },
          "metadata": {},
          "execution_count": 5
        }
      ],
      "source": [
        "name4 = id_to_fruit(4, [\"apple\", \"orange\", \"melon\", \"kiwi\", \"strawberry\"])\n",
        "name4"
      ]
    },
    {
      "cell_type": "markdown",
      "metadata": {
        "id": "G75CxREobGTh"
      },
      "source": [
        "<h1 id=\"exercise-2\"><strong>Exercise 2</strong></h1>\n"
      ]
    },
    {
      "cell_type": "markdown",
      "metadata": {
        "id": "RJBLg1uFbGTi"
      },
      "source": [
        "<font size=\"4px\"><p>This method will flip the x and y coordinates in the coords array.</p>\n",
        "<dl>\n",
        "<dt>param coords</dt>\n",
        "<dd><p>A numpy array of bounding box coordinates with shape [n,5] in format: :</p>\n",
        "<pre><code>[[x11, y11, x12, y12, classid1],\n",
        " [x21, y21, x22, y22, classid2],\n",
        " ...\n",
        " [xn1, yn1, xn2, yn2, classid3]]</code></pre>\n",
        "</dd>\n",
        "<dt>return</dt>\n",
        "<dd><p>The new numpy array where the x and y coordinates are flipped.</p>\n",
        "</dd>\n",
        "</dl>\n",
        "<p><strong>This method is part of a series of debugging exercises.</strong> <strong>Each Python method of this series contains bug that needs to be found.</strong></p>\n",
        "<div class=\"line-block\"><code>1   Can you spot the obvious error?</code><br />\n",
        "<code>2   After fixing the obvious error it is still wrong, how can this be fixed?</code></div>\n",
        "</font>"
      ]
    },
    {
      "cell_type": "markdown",
      "metadata": {
        "id": "7Jm2oVICbGTj"
      },
      "source": [
        "<font size=\"4px\"><p>The example demonstrates the issue. The returned swapped_coords are expected to have swapped x and y coordinates in each of the rows.</p>\n",
        "</font>"
      ]
    },
    {
      "cell_type": "code",
      "execution_count": 6,
      "metadata": {
        "id": "mV3Hq7c_bGTj"
      },
      "outputs": [],
      "source": [
        "# You can copy this code to your personal pipeline project or execute it here.\n",
        "def swap(coords: np.ndarray):\n",
        "    \"\"\"\n",
        "    This method will flip the x and y coordinates in the coords array.\n",
        "\n",
        "    :param coords: A numpy array of bounding box coordinates with shape [n,5] in format:\n",
        "        ::\n",
        "\n",
        "            [[x11, y11, x12, y12, classid1],\n",
        "             [x21, y21, x22, y22, classid2],\n",
        "             ...\n",
        "             [xn1, yn1, xn2, yn2, classid3]]\n",
        "\n",
        "    :return: The new numpy array where the x and y coordinates are flipped.\n",
        "\n",
        "    **This method is part of a series of debugging exercises.**\n",
        "    **Each Python method of this series contains bug that needs to be found.**\n",
        "\n",
        "    | ``1   Can you spot the obvious error?``\n",
        "    | ``2   After fixing the obvious error it is still wrong, how can this be fixed?``\n",
        "\n",
        "    >>> import numpy as np\n",
        "    >>> coords = np.array([[10, 5, 15, 6, 0],\n",
        "    ...                    [11, 3, 13, 6, 0],\n",
        "    ...                    [5, 3, 13, 6, 1],\n",
        "    ...                    [4, 4, 13, 6, 1],\n",
        "    ...                    [6, 5, 13, 16, 1]])\n",
        "    >>> swapped_coords = swap(coords)\n",
        "\n",
        "    The example demonstrates the issue. The returned swapped_coords are expected to have swapped\n",
        "    x and y coordinates in each of the rows.\n",
        "    \"\"\"\n",
        "    coords = coords.copy()\n",
        "    # the fix\n",
        "    coords[:, [0, 1, 2, 3]] = coords[:, [1, 0, 3, 2]]\n",
        "    # coords[:, 0], coords[:, 1], coords[:, 2], coords[:, 3], = coords[:, 1], coords[:, 0], coords[:, 3], coords[:, 2]\n",
        "    return coords\n",
        "\n"
      ]
    },
    {
      "cell_type": "code",
      "execution_count": 7,
      "metadata": {
        "id": "6-rmCkiibGTk"
      },
      "outputs": [],
      "source": [
        "import numpy as np\n",
        "coords = np.array([[10, 5, 15, 6, 0],\n",
        "                   [11, 3, 13, 6, 0],\n",
        "                   [5, 3, 13, 6, 1],\n",
        "                   [4, 4, 13, 6, 1],\n",
        "                   [6, 5, 13, 16, 1]])\n",
        "swapped_coords = swap(coords)\n"
      ]
    },
    {
      "cell_type": "code",
      "execution_count": 8,
      "metadata": {
        "colab": {
          "base_uri": "https://localhost:8080/"
        },
        "id": "-jbC7AdsvsWP",
        "outputId": "fed18616-2a97-425a-bc65-0ef5e0603195"
      },
      "outputs": [
        {
          "output_type": "execute_result",
          "data": {
            "text/plain": [
              "array([[ 5, 10,  6, 15,  0],\n",
              "       [ 3, 11,  6, 13,  0],\n",
              "       [ 3,  5,  6, 13,  1],\n",
              "       [ 4,  4,  6, 13,  1],\n",
              "       [ 5,  6, 16, 13,  1]])"
            ]
          },
          "metadata": {},
          "execution_count": 8
        }
      ],
      "source": [
        "swapped_coords"
      ]
    },
    {
      "cell_type": "markdown",
      "metadata": {
        "id": "rtSjxBIVs2Lx"
      },
      "source": [
        "### 1. Can you spot the obvious error?\n",
        "The obvious error is that we were assigning coords[:, 1] to both coords[:, 0] and coords[:, 1]. That overwrites the original coords[:, 0] before you can use it to swap\n",
        "\n",
        "### 2. After fixing the obvious error it is still wrong, how can this be fixed?\n",
        "First we need to make a copy of the original coords to avoid modifying the original.\n"
      ]
    },
    {
      "cell_type": "markdown",
      "metadata": {
        "id": "5Z7jvcUCbGTl"
      },
      "source": [
        "<h1 id=\"exercise-3\"><strong>Exercise 3</strong></h1>\n"
      ]
    },
    {
      "cell_type": "markdown",
      "metadata": {
        "id": "0avKVMdCbGTl"
      },
      "source": [
        "<font size=\"4px\"><p>This code plots the precision-recall curve based on data from a .csv file, where precision is on the x-axis and recall is on the y-axis. It it not so important right now what precision and recall means.</p>\n",
        "<dl>\n",
        "<dt>param csv_file_path</dt>\n",
        "<dd><p>The CSV file containing the data to plot.</p>\n",
        "</dd>\n",
        "</dl>\n",
        "<p><strong>This method is part of a series of debugging exercises.</strong> <strong>Each Python method of this series contains bug that needs to be found.</strong></p>\n",
        "<div class=\"line-block\"><code>1   For some reason the plot is not showing correctly, can you find out what is going wrong?</code><br />\n",
        "<code>2   How could this be fixed?</code></div>\n",
        "<p>This example demonstrates the issue. It first generates some data in a csv file format and the plots it using the <code>plot_data</code> method. If you manually check the coordinates and then check the plot, they do not correspond.</p>\n",
        "</font>"
      ]
    },
    {
      "cell_type": "code",
      "execution_count": 9,
      "metadata": {
        "id": "PEAROfUXbGTm"
      },
      "outputs": [],
      "source": [
        "# You can copy this code to your personal pipeline project or execute it here.\n",
        "def plot_data(csv_file_path: str):\n",
        "    \"\"\"\n",
        "    This code plots the precision-recall curve based on data from a .csv file,\n",
        "    where precision is on the x-axis and recall is on the y-axis.\n",
        "    It it not so important right now what precision and recall means.\n",
        "\n",
        "    :param csv_file_path: The CSV file containing the data to plot.\n",
        "\n",
        "\n",
        "    **This method is part of a series of debugging exercises.**\n",
        "    **Each Python method of this series contains bug that needs to be found.**\n",
        "\n",
        "    | ``1   For some reason the plot is not showing correctly, can you find out what is going wrong?``\n",
        "    | ``2   How could this be fixed?``\n",
        "\n",
        "    This example demonstrates the issue.\n",
        "    It first generates some data in a csv file format and the plots it using the ``plot_data`` method.\n",
        "    If you manually check the coordinates and then check the plot, they do not correspond.\n",
        "\n",
        "    >>> f = open(\"data_file.csv\", \"w\")\n",
        "    >>> w = csv.writer(f)\n",
        "    >>> _ = w.writerow([\"precision\", \"recall\"])\n",
        "    >>> w.writerows([[0.013,0.951],\n",
        "    ...              [0.376,0.851],\n",
        "    ...              [0.441,0.839],\n",
        "    ...              [0.570,0.758],\n",
        "    ...              [0.635,0.674],\n",
        "    ...              [0.721,0.604],\n",
        "    ...              [0.837,0.531],\n",
        "    ...              [0.860,0.453],\n",
        "    ...              [0.962,0.348],\n",
        "    ...              [0.982,0.273],\n",
        "    ...              [1.0,0.0]])\n",
        "    >>> f.close()\n",
        "    >>> plot_data('data_file.csv')\n",
        "    \"\"\"\n",
        "    # load data\n",
        "    results = []\n",
        "    with open(csv_file_path) as result_csv:\n",
        "        csv_reader = csv.reader(result_csv, delimiter=',')\n",
        "        next(csv_reader)\n",
        "        for row in csv_reader:\n",
        "            results.append(row)\n",
        "        # results = np.stack(results)\n",
        "        # fixed code\n",
        "        results = np.array(results, dtype=float)\n",
        "\n",
        "    # plot precision-recall curve\n",
        "    plt.plot(results[:, 1], results[:, 0])\n",
        "    plt.ylim([-0.05, 1.05])\n",
        "    plt.xlim([-0.05, 1.05])\n",
        "    plt.xlabel('Recall')\n",
        "    plt.ylabel('Precision')\n",
        "    plt.show()\n",
        "\n"
      ]
    },
    {
      "cell_type": "markdown",
      "metadata": {
        "id": "uxcdOIYWyRzv"
      },
      "source": [
        "### 1. For some reason the plot is not showing correctly, can you find out what is going wrong?\n",
        "First, in the line ``results = np.stack(results)`` the results list contains strings because CSV data is read as text by default.\n",
        "So, results[:, 1] and results[:, 0] are arrays of strings, not floats.\n",
        "When we are plotting in the line `plt.plot(results[:, 1], results[:, 0])` we plot string values which means that the x and y coordinates don't map numerically as expected, resulting in an incorrect plot.\n",
        "\n",
        "### 2. How could this be fixed?\n",
        "We can fix the issue by replacing the line `results = np.stack(results)` with `results = np.array(results, dtype=float)`.\n",
        "It ensures all values are converted to float, so NumPy treats them correctly when slicing and plotting."
      ]
    },
    {
      "cell_type": "code",
      "execution_count": 10,
      "metadata": {
        "colab": {
          "base_uri": "https://localhost:8080/",
          "height": 449
        },
        "id": "sG1SImTJbGTn",
        "outputId": "65d1204c-f105-4880-b603-52b2b167595c"
      },
      "outputs": [
        {
          "output_type": "display_data",
          "data": {
            "text/plain": [
              "<Figure size 640x480 with 1 Axes>"
            ],
            "image/png": "[encoded data removed]"
          },
          "metadata": {}
        }
      ],
      "source": [
        "f = open(\"data_file.csv\", \"w\")\n",
        "w = csv.writer(f)\n",
        "_ = w.writerow([\"precision\", \"recall\"])\n",
        "w.writerows([[0.013,0.951],\n",
        "             [0.376,0.851],\n",
        "             [0.441,0.839],\n",
        "             [0.570,0.758],\n",
        "             [0.635,0.674],\n",
        "             [0.721,0.604],\n",
        "             [0.837,0.531],\n",
        "             [0.860,0.453],\n",
        "             [0.962,0.348],\n",
        "             [0.982,0.273],\n",
        "             [1.0,0.0]])\n",
        "f.close()\n",
        "plot_data('data_file.csv')\n"
      ]
    },
    {
      "cell_type": "markdown",
      "metadata": {
        "id": "he3lb8_GbGTp"
      },
      "source": [
        "<h1 id=\"generator-for-exercise-4\">** Generator (for Exercise 4)**</h1>\n"
      ]
    },
    {
      "cell_type": "markdown",
      "metadata": {
        "id": "Nupj2GwJbGTq"
      },
      "source": [
        "<font size=\"4px\"><p>Generator class for the GAN</p>\n",
        "</font>"
      ]
    },
    {
      "cell_type": "code",
      "execution_count": 11,
      "metadata": {
        "id": "b3Sad7h9bGTr"
      },
      "outputs": [],
      "source": [
        "# You can copy this code to your personal pipeline project or execute it here.\n",
        "class Generator(nn.Module):\n",
        "    \"\"\"\n",
        "    Generator class for the GAN\n",
        "    \"\"\"\n",
        "\n",
        "    def __init__(self):\n",
        "        super().__init__()\n",
        "        self.model = nn.Sequential(\n",
        "            nn.Linear(100, 256),\n",
        "            nn.ReLU(),\n",
        "            nn.Linear(256, 512),\n",
        "            nn.ReLU(),\n",
        "            nn.Linear(512, 1024),\n",
        "            nn.ReLU(),\n",
        "            nn.Linear(1024, 784),\n",
        "            nn.Tanh(),\n",
        "        )\n",
        "\n",
        "    def forward(self, x):\n",
        "        output = self.model(x)\n",
        "        output = output.view(x.size(0), 1, 28, 28)\n",
        "        return output\n",
        "\n"
      ]
    },
    {
      "cell_type": "markdown",
      "metadata": {
        "id": "DbxzjnXtbGTs"
      },
      "source": [
        "<h1 id=\"discriminator-for-exercise-4\">** Discriminator (for Exercise 4)**</h1>\n"
      ]
    },
    {
      "cell_type": "markdown",
      "metadata": {
        "id": "XAK9BtdHbGTs"
      },
      "source": [
        "<font size=\"4px\"><p>Discriminator class for the GAN</p>\n",
        "</font>"
      ]
    },
    {
      "cell_type": "code",
      "execution_count": 12,
      "metadata": {
        "id": "N6sJgGydbGTs"
      },
      "outputs": [],
      "source": [
        "# You can copy this code to your personal pipeline project or execute it here.\n",
        "class Discriminator(nn.Module):\n",
        "    \"\"\"\n",
        "    Discriminator class for the GAN\n",
        "    \"\"\"\n",
        "    def __init__(self):\n",
        "        super().__init__()\n",
        "        self.model = nn.Sequential(\n",
        "            nn.Linear(784, 1024),\n",
        "            nn.ReLU(),\n",
        "            nn.Dropout(0.3),\n",
        "            nn.Linear(1024, 512),\n",
        "            nn.ReLU(),\n",
        "            nn.Dropout(0.3),\n",
        "            nn.Linear(512, 256),\n",
        "            nn.ReLU(),\n",
        "            nn.Dropout(0.3),\n",
        "            nn.Linear(256, 1),\n",
        "            nn.Sigmoid(),\n",
        "        )\n",
        "\n",
        "    def forward(self, x):\n",
        "        x = x.view(x.size(0), 784)\n",
        "        output = self.model(x)\n",
        "        return output\n",
        "\n"
      ]
    },
    {
      "cell_type": "markdown",
      "metadata": {
        "id": "CiRPmwVvbGTt"
      },
      "source": [
        "<h1 id=\"exercise-4\">** Exercise 4**</h1>\n"
      ]
    },
    {
      "cell_type": "markdown",
      "metadata": {
        "id": "WBHLduYPbGTu"
      },
      "source": [
        "<font size=\"4px\"><p>The method trains a Generative Adversarial Network and is based on: <a href=\"https://realpython.com/generative-adversarial-networks/\">https://realpython.com/generative-adversarial-networks/</a></p>\n",
        "<p>The Generator network tries to generate convincing images of handwritten digits. The Discriminator needs to detect if the image was created by the Generater or if the image is a real image from a known dataset (MNIST). If both the Generator and the Discriminator are optimized, the Generator is able to create images that are difficult to distinguish from real images. This is goal of a GAN.</p>\n",
        "<p>This code produces the expected results at first attempt at about 50 epochs.</p>\n",
        "<dl>\n",
        "<dt>param batch_size</dt>\n",
        "<dd><p>The number of images to train in one epoch.</p>\n",
        "</dd>\n",
        "<dt>param num_epochs</dt>\n",
        "<dd><p>The number of epochs to train the gan.</p>\n",
        "</dd>\n",
        "<dt>param device</dt>\n",
        "<dd><p>The computing device to use. If CUDA is installed and working then <span class=\"title-ref\">cuda:0</span> is chosen otherwise 'cpu' is chosen. Note: Training a GAN on the CPU is very slow.</p>\n",
        "</dd>\n",
        "</dl>\n",
        "<p><strong>This method is part of a series of debugging exercises.</strong> <strong>Each Python method of this series contains bug that needs to be found.</strong></p>\n",
        "<p>It contains at least two bugs: one structural bug and one cosmetic bug. Both bugs are from the original tutorial.</p>\n",
        "<div class=\"line-block\"><code>1   Changing the batch_size from 32 to 64 triggers the structural bug.</code><br />\n",
        "<code>2   Can you also spot the cosmetic bug?</code><br />\n",
        "<code>Note: to fix this bug a thorough understanding of GANs is not necessary.</code></div>\n",
        "<p>Change the batch size to 64 to trigger the bug with message: ValueError: \"Using a target size (torch.Size([128, 1])) that is different to the input size (torch.Size([96, 1])) is deprecated. Please ensure they have the same size.\"</p>\n",
        "</font>"
      ]
    },
    {
      "cell_type": "code",
      "execution_count": 13,
      "metadata": {
        "id": "PEMQmvGCbGTu"
      },
      "outputs": [],
      "source": [
        "# You can copy this code to your personal pipeline project or execute it here.\n",
        "def train_gan(batch_size: int = 32, num_epochs: int = 100, device: str = \"cuda:0\" if torch.cuda.is_available() else \"cpu\"):\n",
        "    \"\"\"\n",
        "    The method trains a Generative Adversarial Network and is based on:\n",
        "    https://realpython.com/generative-adversarial-networks/\n",
        "\n",
        "    The Generator network tries to generate convincing images of handwritten digits.\n",
        "    The Discriminator needs to detect if the image was created by the Generater or if the image is a real image from\n",
        "    a known dataset (MNIST).\n",
        "    If both the Generator and the Discriminator are optimized, the Generator is able to create images that are difficult\n",
        "    to distinguish from real images. This is goal of a GAN.\n",
        "\n",
        "    This code produces the expected results at first attempt at about 50 epochs.\n",
        "\n",
        "    :param batch_size: The number of images to train in one epoch.\n",
        "    :param num_epochs: The number of epochs to train the gan.\n",
        "    :param device: The computing device to use. If CUDA is installed and working then `cuda:0` is chosen\n",
        "        otherwise 'cpu' is chosen. Note: Training a GAN on the CPU is very slow.\n",
        "\n",
        "    **This method is part of a series of debugging exercises.**\n",
        "    **Each Python method of this series contains bug that needs to be found.**\n",
        "\n",
        "    It contains at least two bugs: one structural bug and one cosmetic bug. Both bugs are from the original tutorial.\n",
        "\n",
        "    | ``1   Changing the batch_size from 32 to 64 triggers the structural bug.``\n",
        "    | ``2   Can you also spot the cosmetic bug?``\n",
        "    | ``Note: to fix this bug a thorough understanding of GANs is not necessary.``\n",
        "\n",
        "    Change the batch size to 64 to trigger the bug with message:\n",
        "    ValueError: \"Using a target size (torch.Size([128, 1])) that is different to the input size (torch.Size([96, 1])) is deprecated. Please ensure they have the same size.\"\n",
        "\n",
        "    >>> train_gan(batch_size=32, num_epochs=100)\n",
        "    \"\"\"\n",
        "    # Add/adjust code.\n",
        "\n",
        "    transform = transforms.Compose([transforms.ToTensor(), transforms.Normalize((0.5,), (0.5,))])\n",
        "\n",
        "    try:\n",
        "        train_set = torchvision.datasets.MNIST(root=\".\", train=True, download=True, transform=transform)\n",
        "    except:\n",
        "        print(\"Failed to download MNIST, retrying with different URL\")\n",
        "        # see: https://github.com/pytorch/vision/blob/master/torchvision/datasets/mnist.py\n",
        "        torchvision.datasets.MNIST.resources = [\n",
        "            ('https://ossci-datasets.s3.amazonaws.com/mnist/train-images-idx3-ubyte.gz',\n",
        "             'f68b3c2dcbeaaa9fbdd348bbdeb94873'),\n",
        "            ('https://ossci-datasets.s3.amazonaws.com/mnist/train-labels-idx1-ubyte.gz',\n",
        "             'd53e105ee54ea40749a09fcbcd1e9432'),\n",
        "            ('https://ossci-datasets.s3.amazonaws.com/mnist/t10k-images-idx3-ubyte.gz',\n",
        "             '9fb629c4189551a2d022fa330f9573f3'),\n",
        "            ('https://ossci-datasets.s3.amazonaws.com/mnist/t10k-labels-idx1-ubyte.gz',\n",
        "             'ec29112dd5afa0611ce80d1b7f02629c')\n",
        "        ]\n",
        "        train_set = torchvision.datasets.MNIST(root=\".\", train=True, download=True, transform=transform)\n",
        "\n",
        "    train_loader = torch.utils.data.DataLoader(train_set, batch_size=batch_size, shuffle=True)\n",
        "\n",
        "    # example data\n",
        "    real_samples, mnist_labels = next(iter(train_loader))\n",
        "\n",
        "    fig = plt.figure()\n",
        "    for i in range(16):\n",
        "        sub = fig.add_subplot(4, 4, 1 + i)\n",
        "        sub.imshow(real_samples[i].reshape(28, 28), cmap=\"gray_r\")\n",
        "        sub.axis('off')\n",
        "\n",
        "    fig.tight_layout()\n",
        "    fig.suptitle(\"Real images\")\n",
        "    display(fig)\n",
        "\n",
        "    time.sleep(5)\n",
        "\n",
        "    # Set up training\n",
        "    discriminator = Discriminator().to(device)\n",
        "    generator = Generator().to(device)\n",
        "    lr = 0.0001\n",
        "    loss_function = nn.BCELoss()\n",
        "    optimizer_discriminator = torch.optim.Adam(discriminator.parameters(), lr=lr)\n",
        "    optimizer_generator = torch.optim.Adam(generator.parameters(), lr=lr)\n",
        "\n",
        "    # train\n",
        "    for epoch in range(num_epochs):\n",
        "        for n, (real_samples, mnist_labels) in enumerate(train_loader):\n",
        "\n",
        "            # Data for training the discriminator\n",
        "            real_samples = real_samples.to(device=device)\n",
        "            real_samples_labels = torch.ones((batch_size, 1)).to(device=device)\n",
        "            latent_space_samples = torch.randn((batch_size, 100)).to(device=device)\n",
        "            generated_samples = generator(latent_space_samples)\n",
        "            generated_samples_labels = torch.zeros((batch_size, 1)).to(device=device)\n",
        "            all_samples = torch.cat((real_samples, generated_samples))\n",
        "            all_samples_labels = torch.cat((real_samples_labels, generated_samples_labels))\n",
        "\n",
        "            # Training the discriminator\n",
        "            discriminator.zero_grad()\n",
        "            output_discriminator = discriminator(all_samples)\n",
        "            loss_discriminator = loss_function(output_discriminator, all_samples_labels)\n",
        "            loss_discriminator.backward()\n",
        "            optimizer_discriminator.step()\n",
        "\n",
        "            # Data for training the generator\n",
        "            latent_space_samples = torch.randn((batch_size, 100)).to(device=device)\n",
        "\n",
        "            # Training the generator\n",
        "            generator.zero_grad()\n",
        "            generated_samples = generator(latent_space_samples)\n",
        "            output_discriminator_generated = discriminator(generated_samples)\n",
        "            loss_generator = loss_function(output_discriminator_generated, real_samples_labels)\n",
        "            loss_generator.backward()\n",
        "            optimizer_generator.step()\n",
        "\n",
        "            # Show loss and samples generated\n",
        "            # to fix the cosmetic bug\n",
        "            # if n == len(train_loader) - 1:\n",
        "            if n == batch_size - 1:\n",
        "                name = f\"Generate images\\n Epoch: {epoch} Loss D.: {loss_discriminator:.2f} Loss G.: {loss_generator:.2f}\"\n",
        "                generated_samples = generated_samples.detach().cpu().numpy()\n",
        "                fig = plt.figure()\n",
        "                for i in range(16):\n",
        "                    sub = fig.add_subplot(4, 4, 1 + i)\n",
        "                    sub.imshow(generated_samples[i].reshape(28, 28), cmap=\"gray_r\")\n",
        "                    sub.axis('off')\n",
        "                fig.suptitle(name)\n",
        "                fig.tight_layout()\n",
        "                clear_output(wait=False)\n",
        "                display(fig)\n",
        "\n"
      ]
    },
    {
      "cell_type": "markdown",
      "source": [
        "### 1. Changing the batch_size from 32 to 64 triggers the structural bug.\n",
        "- The code seems to work when `batch_size = 32`, likely because the dataset size is divisible by **32**, so all batches have exactly 32 samples.\n",
        "- When you change to `batch_size = 64`, things break:\n",
        "  - The last batch in each epoch is often not full — e.g., it might have only 32 or 16 samples.\n",
        "  - The code still assumes all batches always contain exactly 64 samples, which is no longer true.\n",
        "\n",
        "So, when it tries to concatenate tensors or compute loss with fixed-size labels, it crashes due to shape mismatch.\n",
        "\n",
        "### 2. Can you also spot the cosmetic bug?\n",
        "- It's caused by the incorrect condition for plotting from the line `if n == batch_size - 1:`\n",
        "- It is supposed to trigger image plotting once per epoch, but it doesn't do that reliably. Instead it assumes that lhe last batch of each epoch will be `n == batch_size - 1` which is not true. The number of batches per epoch depends on dataset size and batch size."
      ],
      "metadata": {
        "id": "tc4YZhRrNGkn"
      }
    },
    {
      "cell_type": "code",
      "execution_count": null,
      "metadata": {
        "colab": {
          "base_uri": "https://localhost:8080/",
          "height": 492
        },
        "id": "ZNXubVMPbGTv",
        "outputId": "cd2c9c3e-2840-49fc-fc74-64fb08e0a92b"
      },
      "outputs": [
        {
          "output_type": "display_data",
          "data": {
            "text/plain": [
              "<Figure size 640x480 with 16 Axes>"
            ],
            "image/png": "[encoded data removed]"
          },
          "metadata": {}
        }
      ],
      "source": [
        "train_gan(batch_size=32, num_epochs=100)\n"
      ]
    },
    {
      "cell_type": "code",
      "execution_count": null,
      "metadata": {
        "id": "VghATe6ZbGTv"
      },
      "outputs": [],
      "source": []
    }
  ],
  "metadata": {
    "celltoolbar": "Create Assignment",
    "colab": {
      "machine_shape": "hm",
      "provenance": [],
      "gpuType": "L4"
    },
    "kernelspec": {
      "display_name": "Python 3",
      "name": "python3"
    },
    "language_info": {
      "codemirror_mode": {
        "name": "ipython",
        "version": 3
      },
      "file_extension": ".py",
      "mimetype": "text/x-python",
      "name": "python",
      "nbconvert_exporter": "python",
      "pygments_lexer": "ipython3",
      "version": "3.10.4"
    },
    "accelerator": "GPU"
  },
  "nbformat": 4,
  "nbformat_minor": 0
}